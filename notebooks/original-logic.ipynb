{
 "cells": [
  {
   "cell_type": "markdown",
   "id": "adcb173b",
   "metadata": {},
   "source": [
    "# Text Classification Model Training\n",
    "\n",
    "This notebook contains the exact logic from `main.py` for training and evaluating text classification models.\n",
    "\n",
    "**Models:**\n",
    "- Logistic Regression\n",
    "- Naive Bayes\n",
    "\n",
    "**Categories:**\n",
    "- World (1)\n",
    "- Sports (2)\n",
    "- Business (3)\n",
    "- Sci/Tech (4)"
   ]
  },
  {
   "cell_type": "markdown",
   "id": "55b2f3c5",
   "metadata": {},
   "source": [
    "## 1. Import Libraries"
   ]
  },
  {
   "cell_type": "code",
   "execution_count": 4,
   "id": "8ba6fb5b",
   "metadata": {},
   "outputs": [],
   "source": [
    "import pandas as pd \n",
    "import pickle\n",
    "import os\n",
    "from sklearn.feature_extraction.text import TfidfVectorizer\n",
    "from sklearn.linear_model import LogisticRegression\n",
    "from sklearn.naive_bayes import MultinomialNB\n",
    "from sklearn.metrics import accuracy_score, classification_report, ConfusionMatrixDisplay\n",
    "import matplotlib.pyplot as plt\n",
    "\n",
    "from utils import preprocess\n",
    "import config"
   ]
  },
  {
   "cell_type": "code",
   "execution_count": 3,
   "id": "cb0c7d57",
   "metadata": {},
   "outputs": [],
   "source": [
    "# Add parent directory to path to import local modules\n",
    "import sys\n",
    "import os\n",
    "sys.path.insert(0, os.path.abspath('..'))"
   ]
  },
  {
   "cell_type": "markdown",
   "id": "85b4688d",
   "metadata": {},
   "source": [
    "## 2. Load Dataset"
   ]
  },
  {
   "cell_type": "code",
   "execution_count": 5,
   "id": "3ca51fa5",
   "metadata": {},
   "outputs": [
    {
     "data": {
      "text/html": [
       "<div>\n",
       "<style scoped>\n",
       "    .dataframe tbody tr th:only-of-type {\n",
       "        vertical-align: middle;\n",
       "    }\n",
       "\n",
       "    .dataframe tbody tr th {\n",
       "        vertical-align: top;\n",
       "    }\n",
       "\n",
       "    .dataframe thead th {\n",
       "        text-align: right;\n",
       "    }\n",
       "</style>\n",
       "<table border=\"1\" class=\"dataframe\">\n",
       "  <thead>\n",
       "    <tr style=\"text-align: right;\">\n",
       "      <th></th>\n",
       "      <th>Class Index</th>\n",
       "      <th>Title</th>\n",
       "      <th>Description</th>\n",
       "    </tr>\n",
       "  </thead>\n",
       "  <tbody>\n",
       "    <tr>\n",
       "      <th>0</th>\n",
       "      <td>3</td>\n",
       "      <td>Wall St. Bears Claw Back Into the Black (Reuters)</td>\n",
       "      <td>Reuters - Short-sellers, Wall Street's dwindli...</td>\n",
       "    </tr>\n",
       "    <tr>\n",
       "      <th>1</th>\n",
       "      <td>3</td>\n",
       "      <td>Carlyle Looks Toward Commercial Aerospace (Reu...</td>\n",
       "      <td>Reuters - Private investment firm Carlyle Grou...</td>\n",
       "    </tr>\n",
       "    <tr>\n",
       "      <th>2</th>\n",
       "      <td>3</td>\n",
       "      <td>Oil and Economy Cloud Stocks' Outlook (Reuters)</td>\n",
       "      <td>Reuters - Soaring crude prices plus worries\\ab...</td>\n",
       "    </tr>\n",
       "    <tr>\n",
       "      <th>3</th>\n",
       "      <td>3</td>\n",
       "      <td>Iraq Halts Oil Exports from Main Southern Pipe...</td>\n",
       "      <td>Reuters - Authorities have halted oil export\\f...</td>\n",
       "    </tr>\n",
       "    <tr>\n",
       "      <th>4</th>\n",
       "      <td>3</td>\n",
       "      <td>Oil prices soar to all-time record, posing new...</td>\n",
       "      <td>AFP - Tearaway world oil prices, toppling reco...</td>\n",
       "    </tr>\n",
       "  </tbody>\n",
       "</table>\n",
       "</div>"
      ],
      "text/plain": [
       "   Class Index                                              Title  \\\n",
       "0            3  Wall St. Bears Claw Back Into the Black (Reuters)   \n",
       "1            3  Carlyle Looks Toward Commercial Aerospace (Reu...   \n",
       "2            3    Oil and Economy Cloud Stocks' Outlook (Reuters)   \n",
       "3            3  Iraq Halts Oil Exports from Main Southern Pipe...   \n",
       "4            3  Oil prices soar to all-time record, posing new...   \n",
       "\n",
       "                                         Description  \n",
       "0  Reuters - Short-sellers, Wall Street's dwindli...  \n",
       "1  Reuters - Private investment firm Carlyle Grou...  \n",
       "2  Reuters - Soaring crude prices plus worries\\ab...  \n",
       "3  Reuters - Authorities have halted oil export\\f...  \n",
       "4  AFP - Tearaway world oil prices, toppling reco...  "
      ]
     },
     "execution_count": 5,
     "metadata": {},
     "output_type": "execute_result"
    }
   ],
   "source": [
    "# Loading the dataset from Kaggle\n",
    "train_df = pd.read_csv(config.TRAIN_DATA_PATH)\n",
    "test_df = pd.read_csv(config.TEST_DATA_PATH)\n",
    "train_df.head()"
   ]
  },
  {
   "cell_type": "markdown",
   "id": "ef61b332",
   "metadata": {},
   "source": [
    "## 3. Data Overview"
   ]
  },
  {
   "cell_type": "code",
   "execution_count": 6,
   "id": "707c8737",
   "metadata": {},
   "outputs": [
    {
     "name": "stdout",
     "output_type": "stream",
     "text": [
      "Training samples: 120000\n",
      "Test samples: 7600\n"
     ]
    }
   ],
   "source": [
    "#Testing the data if it works correctly\n",
    "print(f\"Training samples: {len(train_df)}\")\n",
    "print(f\"Test samples: {len(test_df)}\")"
   ]
  },
  {
   "cell_type": "markdown",
   "id": "7b74d31b",
   "metadata": {},
   "source": [
    "## 4. Data Preprocessing"
   ]
  },
  {
   "cell_type": "code",
   "execution_count": 7,
   "id": "78d50795",
   "metadata": {},
   "outputs": [
    {
     "data": {
      "text/html": [
       "<div>\n",
       "<style scoped>\n",
       "    .dataframe tbody tr th:only-of-type {\n",
       "        vertical-align: middle;\n",
       "    }\n",
       "\n",
       "    .dataframe tbody tr th {\n",
       "        vertical-align: top;\n",
       "    }\n",
       "\n",
       "    .dataframe thead th {\n",
       "        text-align: right;\n",
       "    }\n",
       "</style>\n",
       "<table border=\"1\" class=\"dataframe\">\n",
       "  <thead>\n",
       "    <tr style=\"text-align: right;\">\n",
       "      <th></th>\n",
       "      <th>Description</th>\n",
       "      <th>clean_text</th>\n",
       "    </tr>\n",
       "  </thead>\n",
       "  <tbody>\n",
       "    <tr>\n",
       "      <th>0</th>\n",
       "      <td>Reuters - Short-sellers, Wall Street's dwindli...</td>\n",
       "      <td>reuters shortsellers wall streets dwindlingban...</td>\n",
       "    </tr>\n",
       "    <tr>\n",
       "      <th>1</th>\n",
       "      <td>Reuters - Private investment firm Carlyle Grou...</td>\n",
       "      <td>reuters private investment firm carlyle groupw...</td>\n",
       "    </tr>\n",
       "    <tr>\n",
       "      <th>2</th>\n",
       "      <td>Reuters - Soaring crude prices plus worries\\ab...</td>\n",
       "      <td>reuters soaring crude prices plus worriesabout...</td>\n",
       "    </tr>\n",
       "    <tr>\n",
       "      <th>3</th>\n",
       "      <td>Reuters - Authorities have halted oil export\\f...</td>\n",
       "      <td>reuters authorities halted oil exportflows mai...</td>\n",
       "    </tr>\n",
       "    <tr>\n",
       "      <th>4</th>\n",
       "      <td>AFP - Tearaway world oil prices, toppling reco...</td>\n",
       "      <td>afp tearaway world oil prices toppling records...</td>\n",
       "    </tr>\n",
       "  </tbody>\n",
       "</table>\n",
       "</div>"
      ],
      "text/plain": [
       "                                         Description  \\\n",
       "0  Reuters - Short-sellers, Wall Street's dwindli...   \n",
       "1  Reuters - Private investment firm Carlyle Grou...   \n",
       "2  Reuters - Soaring crude prices plus worries\\ab...   \n",
       "3  Reuters - Authorities have halted oil export\\f...   \n",
       "4  AFP - Tearaway world oil prices, toppling reco...   \n",
       "\n",
       "                                          clean_text  \n",
       "0  reuters shortsellers wall streets dwindlingban...  \n",
       "1  reuters private investment firm carlyle groupw...  \n",
       "2  reuters soaring crude prices plus worriesabout...  \n",
       "3  reuters authorities halted oil exportflows mai...  \n",
       "4  afp tearaway world oil prices toppling records...  "
      ]
     },
     "execution_count": 7,
     "metadata": {},
     "output_type": "execute_result"
    }
   ],
   "source": [
    "# Cleaning the data\n",
    "train_df['clean_text'] = train_df['Description'].apply(preprocess)\n",
    "test_df['clean_text'] = test_df['Description'].apply(preprocess)\n",
    "train_df[['Description', 'clean_text']].head()"
   ]
  },
  {
   "cell_type": "markdown",
   "id": "18b11455",
   "metadata": {},
   "source": [
    "## 5. Vectorization and Model Training Setup"
   ]
  },
  {
   "cell_type": "code",
   "execution_count": 8,
   "id": "b7af6e1b",
   "metadata": {},
   "outputs": [],
   "source": [
    "# Vectorization and model training\n",
    "vectorizer = TfidfVectorizer()\n",
    "X_train = vectorizer.fit_transform(train_df['clean_text'])\n",
    "X_test = vectorizer.transform(test_df['clean_text'])\n",
    "y_train = train_df['Class Index']\n",
    "y_test = test_df['Class Index']"
   ]
  },
  {
   "cell_type": "markdown",
   "id": "699a3689",
   "metadata": {},
   "source": [
    "## 6. Model 1: Logistic Regression"
   ]
  },
  {
   "cell_type": "code",
   "execution_count": 9,
   "id": "6cb9d044",
   "metadata": {},
   "outputs": [
    {
     "name": "stdout",
     "output_type": "stream",
     "text": [
      "Accuracy: 0.9076315789473685\n",
      "              precision    recall  f1-score   support\n",
      "\n",
      "           1       0.92      0.90      0.91      1900\n",
      "           2       0.95      0.97      0.96      1900\n",
      "           3       0.88      0.87      0.88      1900\n",
      "           4       0.87      0.89      0.88      1900\n",
      "\n",
      "    accuracy                           0.91      7600\n",
      "   macro avg       0.91      0.91      0.91      7600\n",
      "weighted avg       0.91      0.91      0.91      7600\n",
      "\n"
     ]
    }
   ],
   "source": [
    "# 1st Model: Logistic Regression\n",
    "clf = LogisticRegression(max_iter=config.LOGISTIC_REGRESSION_MAX_ITER)\n",
    "clf.fit(X_train, y_train)\n",
    "\n",
    "y_pred = clf.predict(X_test)\n",
    "print('Accuracy:', accuracy_score(y_test, y_pred))\n",
    "print(classification_report(y_test, y_pred))"
   ]
  },
  {
   "cell_type": "markdown",
   "id": "f6d0d056",
   "metadata": {},
   "source": [
    "### Confusion Matrix - Logistic Regression"
   ]
  },
  {
   "cell_type": "code",
   "execution_count": null,
   "id": "c232bd92",
   "metadata": {},
   "outputs": [],
   "source": [
    "ConfusionMatrixDisplay.from_predictions(y_test, y_pred)\n",
    "plt.title('Confusion Matrix Logic Regression')\n",
    "plt.show()"
   ]
  },
  {
   "cell_type": "markdown",
   "id": "3a4191d2",
   "metadata": {},
   "source": [
    "## 7. Model 2: Naive Bayes"
   ]
  },
  {
   "cell_type": "code",
   "execution_count": null,
   "id": "38294a50",
   "metadata": {},
   "outputs": [],
   "source": [
    "#2nd Model: Naive Bayes\n",
    "\n",
    "nb_model = MultinomialNB()\n",
    "nb_model.fit(X_train, y_train)\n",
    "\n",
    "y_pred_nb = nb_model.predict(X_test)\n",
    "print('Naive Bayes Accuracy:', accuracy_score(y_test, y_pred_nb))\n",
    "print(classification_report(y_test, y_pred_nb))"
   ]
  },
  {
   "cell_type": "markdown",
   "id": "4ee34fc6",
   "metadata": {},
   "source": [
    "### Confusion Matrix - Naive Bayes"
   ]
  },
  {
   "cell_type": "code",
   "execution_count": null,
   "id": "8f1d8c34",
   "metadata": {},
   "outputs": [],
   "source": [
    "ConfusionMatrixDisplay.from_predictions(y_test, y_pred_nb)\n",
    "plt.title('Confusion Matrix Naive Bayes')\n",
    "plt.show()"
   ]
  },
  {
   "cell_type": "markdown",
   "id": "f2aa07ff",
   "metadata": {},
   "source": [
    "## 8. Prediction Function - Ensemble Method"
   ]
  },
  {
   "cell_type": "code",
   "execution_count": null,
   "id": "5d347327",
   "metadata": {},
   "outputs": [],
   "source": [
    "# Prediction function - Both Models to compare results\n",
    "\n",
    "def predict_category(text):\n",
    "    \n",
    "    clean = preprocess(text)\n",
    "    vect = vectorizer.transform([clean])\n",
    "    \n",
    "    pred_lr = clf.predict(vect)[0]\n",
    "    pred_nb = nb_model.predict(vect)[0]\n",
    "    \n",
    "    prob_lr = clf.predict_proba(vect)[0]\n",
    "    prob_nb = nb_model.predict_proba(vect)[0]\n",
    "    \n",
    "    avg_prob = (prob_lr + prob_nb) / 2\n",
    "    final_pred = avg_prob.argmax() + 1  \n",
    "    \n",
    "    print(f\"\\nInput text: '{text}'\")\n",
    "    print(f\"Logistic Regression prediction: {config.CATEGORIES[pred_lr]}\")\n",
    "    print(f\"Naive Bayes prediction: {config.CATEGORIES[pred_nb]}\")\n",
    "    print(f\"Final ensemble prediction: {config.CATEGORIES[final_pred]}\")\n",
    "    \n",
    "    return config.CATEGORIES[final_pred]"
   ]
  },
  {
   "cell_type": "markdown",
   "id": "e4bf0325",
   "metadata": {},
   "source": [
    "## 10. Test Prediction"
   ]
  },
  {
   "cell_type": "code",
   "execution_count": null,
   "id": "a7228aa5",
   "metadata": {},
   "outputs": [],
   "source": [
    "# Test the prediction function\n",
    "result = predict_category(\"ronaldo has scored a last minute goal\")\n",
    "print(f\"\\nFinal result: {result}\")"
   ]
  }
 ],
 "metadata": {
  "kernelspec": {
   "display_name": "env (3.13.2)",
   "language": "python",
   "name": "python3"
  },
  "language_info": {
   "codemirror_mode": {
    "name": "ipython",
    "version": 3
   },
   "file_extension": ".py",
   "mimetype": "text/x-python",
   "name": "python",
   "nbconvert_exporter": "python",
   "pygments_lexer": "ipython3",
   "version": "3.13.2"
  }
 },
 "nbformat": 4,
 "nbformat_minor": 5
}
